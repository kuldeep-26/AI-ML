{
 "cells": [
  {
   "cell_type": "code",
   "execution_count": 1,
   "metadata": {},
   "outputs": [
    {
     "data": {
      "text/plain": [
       "array(['24', '34', '54', '65', '67', '5.3', 'karate'], dtype='<U32')"
      ]
     },
     "execution_count": 1,
     "metadata": {},
     "output_type": "execute_result"
    }
   ],
   "source": [
    "import numpy as np\n",
    "arr = np.array([24,34,54,65,67,5.3,'karate'])\n",
    "arr"
   ]
  },
  {
   "cell_type": "code",
   "execution_count": 6,
   "metadata": {},
   "outputs": [
    {
     "data": {
      "text/plain": [
       "numpy.ndarray"
      ]
     },
     "execution_count": 6,
     "metadata": {},
     "output_type": "execute_result"
    }
   ],
   "source": [
    "type(arr)"
   ]
  },
  {
   "cell_type": "code",
   "execution_count": 7,
   "metadata": {},
   "outputs": [
    {
     "data": {
      "text/plain": [
       "dtype('<U32')"
      ]
     },
     "execution_count": 7,
     "metadata": {},
     "output_type": "execute_result"
    }
   ],
   "source": [
    "arr.dtype    "
   ]
  },
  {
   "cell_type": "code",
   "execution_count": 15,
   "metadata": {},
   "outputs": [
    {
     "data": {
      "text/plain": [
       "7"
      ]
     },
     "execution_count": 15,
     "metadata": {},
     "output_type": "execute_result"
    }
   ],
   "source": [
    "arr.size   # to check size of array..."
   ]
  },
  {
   "cell_type": "code",
   "execution_count": 14,
   "metadata": {},
   "outputs": [
    {
     "data": {
      "text/plain": [
       "1"
      ]
     },
     "execution_count": 14,
     "metadata": {},
     "output_type": "execute_result"
    }
   ],
   "source": [
    "arr.ndim   # to check dimension of array...."
   ]
  },
  {
   "cell_type": "code",
   "execution_count": 10,
   "metadata": {},
   "outputs": [
    {
     "data": {
      "text/plain": [
       "'2.0.0'"
      ]
     },
     "execution_count": 10,
     "metadata": {},
     "output_type": "execute_result"
    }
   ],
   "source": [
    "np.__version__  "
   ]
  },
  {
   "cell_type": "code",
   "execution_count": 2,
   "metadata": {},
   "outputs": [
    {
     "name": "stdout",
     "output_type": "stream",
     "text": [
      "[34 54 65]\n"
     ]
    }
   ],
   "source": [
    "ar = np.array([24,34,54,65,67,43,54,65])\n",
    "print(ar[1:4])"
   ]
  },
  {
   "cell_type": "code",
   "execution_count": 3,
   "metadata": {},
   "outputs": [
    {
     "ename": "TypeError",
     "evalue": "ufunc 'square' not supported for the input types, and the inputs could not be safely coerced to any supported types according to the casting rule ''safe''",
     "output_type": "error",
     "traceback": [
      "\u001b[31m---------------------------------------------------------------------------\u001b[39m",
      "\u001b[31mTypeError\u001b[39m                                 Traceback (most recent call last)",
      "\u001b[36mCell\u001b[39m\u001b[36m \u001b[39m\u001b[32mIn[3]\u001b[39m\u001b[32m, line 2\u001b[39m\n\u001b[32m      1\u001b[39m arr[-\u001b[32m1\u001b[39m] = \u001b[32m500\u001b[39m\n\u001b[32m----> \u001b[39m\u001b[32m2\u001b[39m \u001b[43marr\u001b[49m\u001b[43m \u001b[49m\u001b[43m*\u001b[49m\u001b[43m*\u001b[49m\u001b[43m \u001b[49m\u001b[32;43m2\u001b[39;49m\n",
      "\u001b[31mTypeError\u001b[39m: ufunc 'square' not supported for the input types, and the inputs could not be safely coerced to any supported types according to the casting rule ''safe''"
     ]
    }
   ],
   "source": [
    "arr[-1] = 500\n",
    "arr ** 2"
   ]
  },
  {
   "cell_type": "markdown",
   "metadata": {},
   "source": [
    "2d - arrays"
   ]
  },
  {
   "cell_type": "code",
   "execution_count": 4,
   "metadata": {},
   "outputs": [
    {
     "data": {
      "text/plain": [
       "array([[1, 2, 3],\n",
       "       [4, 5, 6],\n",
       "       [7, 8, 9]])"
      ]
     },
     "execution_count": 4,
     "metadata": {},
     "output_type": "execute_result"
    }
   ],
   "source": [
    "ls = [[1,2,3],[4,5,6],[7,8,9]]\n",
    "a = np.array(ls)\n",
    "a"
   ]
  },
  {
   "cell_type": "code",
   "execution_count": 5,
   "metadata": {},
   "outputs": [
    {
     "data": {
      "text/plain": [
       "(3, 3)"
      ]
     },
     "execution_count": 5,
     "metadata": {},
     "output_type": "execute_result"
    }
   ],
   "source": [
    "a.shape"
   ]
  },
  {
   "cell_type": "code",
   "execution_count": 6,
   "metadata": {},
   "outputs": [
    {
     "data": {
      "text/plain": [
       "array([[5, 6],\n",
       "       [8, 9]])"
      ]
     },
     "execution_count": 6,
     "metadata": {},
     "output_type": "execute_result"
    }
   ],
   "source": [
    "a[1:,1:]\n",
    "a[-2:,1:]"
   ]
  },
  {
   "cell_type": "code",
   "execution_count": 20,
   "metadata": {},
   "outputs": [
    {
     "data": {
      "text/plain": [
       "array([[ 1,  2,  3],\n",
       "       [ 4,  5,  6],\n",
       "       [ 7,  8, 90]])"
      ]
     },
     "execution_count": 20,
     "metadata": {},
     "output_type": "execute_result"
    }
   ],
   "source": [
    "a[-1,-1] = 90\n",
    "a"
   ]
  },
  {
   "cell_type": "code",
   "execution_count": 22,
   "metadata": {},
   "outputs": [
    {
     "data": {
      "text/plain": [
       "array([182, 126,  66, 176, 109,  97, 186, 121,  37, 129, 150, 191,  33,\n",
       "        95,  66,  50,  26,  75, 116, 176, 161, 114, 101, 170, 101,  85,\n",
       "         9, 189,  53,  34, 128,  48, 162,  24, 132, 183,  77, 125, 137,\n",
       "       173, 197, 161,  32, 119, 126,  39,  40, 122, 177,  26, 131, 194,\n",
       "       150,  72, 135,  66, 141,  16, 136,  20,  96,   3, 138, 153, 173,\n",
       "       134,  37, 106, 173,  90, 102, 153,  68,  79, 162,  79, 173,   8,\n",
       "         2, 156,  38, 178, 111, 173,  91, 145, 147, 190,  94,   7,  98,\n",
       "        27, 146, 192,  15,  32, 184,   5,  21, 176, 135, 137,  16,  82,\n",
       "       139,  99,   5, 158, 186, 164, 161,  45,  89,  26, 130, 183, 180,\n",
       "        22,  12, 179,  96,  17,  27,   5,  45, 199, 135,  48,   4, 127,\n",
       "        85, 158, 155,  28, 144, 189, 124,  40,  54, 172, 122, 137, 179,\n",
       "       171,  98, 177,   2, 116, 114, 134, 176, 140,  72, 154, 105,  85,\n",
       "        31,  52, 152, 172, 189, 172, 177,  44,   9, 188,   4,  31, 121,\n",
       "       147, 173, 136,  96,  58, 195,  81,  21,  27,  84, 143,  13,  30,\n",
       "        23, 172, 194, 167, 157,  20, 164,  10,  36,  89, 126,   2, 107,\n",
       "       121,  32,  24, 188, 132,  48, 175, 169,  89,  33, 137,   5, 199,\n",
       "       144,  23,  29,  19,  30, 165, 122,  74, 141, 184,   2,   1, 108,\n",
       "       143,  38, 102, 103,  46, 110,   8,  56, 187,  16, 112,  69, 199,\n",
       "       156, 142,  45,  88,  13,  82, 109,  57, 130, 142,  14, 184,  54,\n",
       "        69,  61, 158, 184, 164, 146,  51, 152,  76, 183,  48, 129, 183,\n",
       "       108, 104,  14,  73,  95,  39, 154,  34, 127, 160, 193,  63, 137,\n",
       "        16,  54, 187,   2, 185, 107, 116,  71,  45,  17,  12, 179,  15,\n",
       "        55,  73, 104,  13,  12, 113, 141,  42,  63, 150, 155, 118,  29,\n",
       "        17, 153, 144,  84, 170, 151, 103, 106,  15,  88, 108,  99,  93,\n",
       "       186,  94, 155,  98, 164, 163, 143, 142, 178,  23, 163,  53,  44,\n",
       "       185, 190,  59,  84, 126,  38,  22,  95,  55, 124,  29,  55, 141,\n",
       "       189, 172, 161, 111, 157, 125,  91, 113, 156,  69,  53, 154,  13,\n",
       "        28, 123,  53,  75,   3,  32, 191, 101,  81,  84,  17,  15, 156,\n",
       "        49, 185, 190,  83, 101,  16, 112,  77, 194, 197, 161, 157,  15,\n",
       "       195, 124, 106,  49, 180, 110,   5, 140,  42, 143,  63, 149,  88,\n",
       "       171, 188,  16, 187, 196, 193,   8, 179,  60,   3,   8,  60,  42,\n",
       "       171, 114, 123, 181, 165,  87,  98,  55, 161, 160, 113,  65,  20,\n",
       "       188, 162,  84, 116, 155,   6, 134,  43,  75,  65, 124, 113, 156,\n",
       "       125, 105, 160,  28,  95,   6, 109, 180, 198,  35,  62, 108,  44,\n",
       "        50,  36,   9,  97, 166,  88, 120,  63, 136,  90, 129, 136,  94,\n",
       "        82,   3, 168, 192, 169,  80, 196,  37, 195,  49,  39, 101,  11,\n",
       "        25, 135,  83,  20, 197,  46, 174,  84, 109,  70,  25, 152, 175,\n",
       "        60, 132, 154,  20,  31, 124,  57,  93, 175, 152,   6, 152, 190,\n",
       "        54,  62,  41,  27, 154,  15], dtype=int32)"
      ]
     },
     "execution_count": 22,
     "metadata": {},
     "output_type": "execute_result"
    }
   ],
   "source": [
    "ar1 = np.random.randint(1,200,500)\n",
    "ar1"
   ]
  },
  {
   "cell_type": "code",
   "execution_count": 23,
   "metadata": {},
   "outputs": [
    {
     "name": "stdout",
     "output_type": "stream",
     "text": [
      "[66 97 37 33 95 66 50 26 75 85  9 53 34 48 24 77 32 39 40 26 72 66 16 20\n",
      " 96  3 37 90 68 79 79  8  2 38 91 94  7 98 27 15 32  5 21 16 82 99  5 45\n",
      " 89 26 22 12 96 17 27  5 45 48  4 85 28 40 54 98  2 72 85 31 52 44  9  4\n",
      " 31 96 58 81 21 27 84 13 30 23 20 10 36 89  2 32 24 48 89 33  5 23 29 19\n",
      " 30 74  2  1 38 46  8 56 16 69 45 88 13 82 57 14 54 69 61 51 76 48 14 73\n",
      " 95 39 34 63 16 54  2 71 45 17 12 15 55 73 13 12 42 63 29 17 84 15 88 99\n",
      " 93 94 98 23 53 44 59 84 38 22 95 55 29 55 91 69 53 13 28 53 75  3 32 81\n",
      " 84 17 15 49 83 16 77 15 49  5 42 63 88 16  8 60  3  8 60 42 87 98 55 65\n",
      " 20 84  6 43 75 65 28 95  6 35 62 44 50 36  9 97 88 63 90 94 82  3 80 37\n",
      " 49 39 11 25 83 20 46 84 70 25 60 20 31 57 93  6 54 62 41 27 15]\n"
     ]
    },
    {
     "data": {
      "text/plain": [
       "237"
      ]
     },
     "execution_count": 23,
     "metadata": {},
     "output_type": "execute_result"
    }
   ],
   "source": [
    "print(ar1[ar1 <= 100])\n",
    "ar1[ar1 <= 100].size"
   ]
  },
  {
   "cell_type": "code",
   "execution_count": 24,
   "metadata": {},
   "outputs": [
    {
     "data": {
      "text/plain": [
       "array([[ 95,  54,  28, 102,  57],\n",
       "       [175, 195, 117,  95,  29],\n",
       "       [ 44, 124,  98, 180,  41],\n",
       "       [ 39, 133,  58, 139,  53],\n",
       "       [129,  43, 109, 177, 189],\n",
       "       [187, 114,  68,   2, 150],\n",
       "       [136,  90, 196,  56,  92],\n",
       "       [129, 194, 102,  32, 119],\n",
       "       [ 87, 142,  29,  74,   8],\n",
       "       [150,   6,  44, 166, 126]], dtype=int32)"
      ]
     },
     "execution_count": 24,
     "metadata": {},
     "output_type": "execute_result"
    }
   ],
   "source": [
    "ar2 = np.random.randint(1,200,(10,5))\n",
    "ar2"
   ]
  },
  {
   "cell_type": "code",
   "execution_count": 25,
   "metadata": {},
   "outputs": [
    {
     "data": {
      "text/plain": [
       "array([[0., 0., 0., 0., 0.],\n",
       "       [0., 0., 0., 0., 0.],\n",
       "       [0., 0., 0., 0., 0.],\n",
       "       [0., 0., 0., 0., 0.],\n",
       "       [0., 0., 0., 0., 0.],\n",
       "       [0., 0., 0., 0., 0.],\n",
       "       [0., 0., 0., 0., 0.],\n",
       "       [0., 0., 0., 0., 0.],\n",
       "       [0., 0., 0., 0., 0.],\n",
       "       [0., 0., 0., 0., 0.]])"
      ]
     },
     "execution_count": 25,
     "metadata": {},
     "output_type": "execute_result"
    }
   ],
   "source": [
    "ar3 = np.zeros((10,5))\n",
    "ar3"
   ]
  },
  {
   "cell_type": "code",
   "execution_count": 26,
   "metadata": {},
   "outputs": [
    {
     "data": {
      "text/plain": [
       "[0, 1, 2, 3, 4, 5, 6, 7, 8, 9]"
      ]
     },
     "execution_count": 26,
     "metadata": {},
     "output_type": "execute_result"
    }
   ],
   "source": [
    "ls = [0,1,2,3,4,5,6,7,8,9]\n",
    "ls"
   ]
  },
  {
   "cell_type": "code",
   "execution_count": 27,
   "metadata": {},
   "outputs": [
    {
     "data": {
      "text/plain": [
       "[0, 1, 2, 3, 4, 5, 6, 7, 8, 9]"
      ]
     },
     "execution_count": 27,
     "metadata": {},
     "output_type": "execute_result"
    }
   ],
   "source": [
    "ls = list(range(10))\n",
    "ls"
   ]
  },
  {
   "cell_type": "code",
   "execution_count": 28,
   "metadata": {},
   "outputs": [
    {
     "data": {
      "text/plain": [
       "array([ 10,  20,  30,  40,  50,  60,  70,  80,  90, 100])"
      ]
     },
     "execution_count": 28,
     "metadata": {},
     "output_type": "execute_result"
    }
   ],
   "source": [
    "ar4 = np.arange(10,101,10)\n",
    "ar4"
   ]
  },
  {
   "cell_type": "code",
   "execution_count": 29,
   "metadata": {},
   "outputs": [
    {
     "data": {
      "text/plain": [
       "array([ 0,  1,  2,  3,  4,  5,  6,  7,  8,  9, 10, 11, 12, 13, 14, 15, 16,\n",
       "       17, 18, 19, 20, 21, 22, 23, 24, 25, 26, 27, 28, 29, 30, 31, 32, 33,\n",
       "       34, 35, 36, 37, 38, 39, 40, 41, 42, 43, 44, 45, 46, 47, 48, 49, 50,\n",
       "       51, 52, 53, 54, 55, 56, 57, 58, 59])"
      ]
     },
     "execution_count": 29,
     "metadata": {},
     "output_type": "execute_result"
    }
   ],
   "source": [
    "ar5 = np.arange(60)\n",
    "ar5"
   ]
  },
  {
   "cell_type": "code",
   "execution_count": 30,
   "metadata": {},
   "outputs": [
    {
     "data": {
      "text/plain": [
       "array([[ 0,  1,  2,  3,  4,  5],\n",
       "       [ 6,  7,  8,  9, 10, 11],\n",
       "       [12, 13, 14, 15, 16, 17],\n",
       "       [18, 19, 20, 21, 22, 23],\n",
       "       [24, 25, 26, 27, 28, 29],\n",
       "       [30, 31, 32, 33, 34, 35],\n",
       "       [36, 37, 38, 39, 40, 41],\n",
       "       [42, 43, 44, 45, 46, 47],\n",
       "       [48, 49, 50, 51, 52, 53],\n",
       "       [54, 55, 56, 57, 58, 59]])"
      ]
     },
     "execution_count": 30,
     "metadata": {},
     "output_type": "execute_result"
    }
   ],
   "source": [
    "ar5.reshape(10,6)"
   ]
  },
  {
   "cell_type": "code",
   "execution_count": null,
   "metadata": {},
   "outputs": [
    {
     "data": {
      "text/plain": [
       "array([[[ 90,  13,  19, 188],\n",
       "        [147,  87, 190, 114],\n",
       "        [ 89, 132,   5,   1],\n",
       "        [ 76,  14, 124,  14],\n",
       "        [116,  23, 120,   4]],\n",
       "\n",
       "       [[ 68,  58, 190,  24],\n",
       "        [152,  77, 141,   5],\n",
       "        [192,  58, 191, 188],\n",
       "        [152,  34, 165,  19],\n",
       "        [106, 196, 122, 173]],\n",
       "\n",
       "       [[123,  64,  14, 162],\n",
       "        [ 45, 149,  18,  54],\n",
       "        [ 14, 173, 130, 194],\n",
       "        [143, 161,  47,  81],\n",
       "        [119,  46, 147, 180]]], dtype=int32)"
      ]
     },
     "execution_count": 7,
     "metadata": {},
     "output_type": "execute_result"
    }
   ],
   "source": [
    "ar6 = np.random.randint(1,200,(3,5,4))   # (3 table , 5 row , 4 column)\n",
    "ar6"
   ]
  },
  {
   "cell_type": "code",
   "execution_count": 8,
   "metadata": {},
   "outputs": [
    {
     "name": "stdout",
     "output_type": "stream",
     "text": [
      "[[ 64  14 162]\n",
      " [149  18  54]]\n"
     ]
    },
    {
     "data": {
      "text/plain": [
       "array([[ 90,  13,  19, 188],\n",
       "       [ 68,  58, 190,  24],\n",
       "       [123,  64,  14, 162]], dtype=int32)"
      ]
     },
     "execution_count": 8,
     "metadata": {},
     "output_type": "execute_result"
    }
   ],
   "source": [
    "print(ar6[2,0:2,1:])\n",
    "ar6[0:,0]        #[ table , row]"
   ]
  },
  {
   "cell_type": "code",
   "execution_count": 9,
   "metadata": {},
   "outputs": [
    {
     "data": {
      "text/plain": [
       "array([9, 7, 8])"
      ]
     },
     "execution_count": 9,
     "metadata": {},
     "output_type": "execute_result"
    }
   ],
   "source": [
    "arr = np.array([9,7,8])\n",
    "arr"
   ]
  },
  {
   "cell_type": "markdown",
   "metadata": {},
   "source": [
    "some important function....."
   ]
  },
  {
   "cell_type": "code",
   "execution_count": 10,
   "metadata": {},
   "outputs": [
    {
     "name": "stdout",
     "output_type": "stream",
     "text": [
      "8.0\n",
      "24\n",
      "9\n",
      "1\n",
      "0\n"
     ]
    },
    {
     "data": {
      "text/plain": [
       "array([9, 8, 7])"
      ]
     },
     "execution_count": 10,
     "metadata": {},
     "output_type": "execute_result"
    }
   ],
   "source": [
    "print(np.mean(arr))\n",
    "print(np.sum(arr))\n",
    "print(max(arr))\n",
    "print(np.argmin(arr))     # argmin return index of minimum item\n",
    "print(np.argmax(arr))     # argmax return index of maximum item\n",
    "arr.sort()\n",
    "arr                       # ascending order\n",
    "arr[::-1]                 # desending order"
   ]
  }
 ],
 "metadata": {
  "kernelspec": {
   "display_name": "Python 3",
   "language": "python",
   "name": "python3"
  },
  "language_info": {
   "codemirror_mode": {
    "name": "ipython",
    "version": 3
   },
   "file_extension": ".py",
   "mimetype": "text/x-python",
   "name": "python",
   "nbconvert_exporter": "python",
   "pygments_lexer": "ipython3",
   "version": "3.11.9"
  }
 },
 "nbformat": 4,
 "nbformat_minor": 2
}
