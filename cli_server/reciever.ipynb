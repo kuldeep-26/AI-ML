{
 "cells": [
  {
   "cell_type": "code",
   "execution_count": 21,
   "metadata": {},
   "outputs": [
    {
     "ename": "OSError",
     "evalue": "[WinError 10049] The requested address is not valid in its context",
     "output_type": "error",
     "traceback": [
      "\u001b[1;31m---------------------------------------------------------------------------\u001b[0m",
      "\u001b[1;31mOSError\u001b[0m                                   Traceback (most recent call last)",
      "Cell \u001b[1;32mIn[21], line 7\u001b[0m\n\u001b[0;32m      4\u001b[0m port_no \u001b[38;5;241m=\u001b[39m \u001b[38;5;241m3530\u001b[39m\n\u001b[0;32m      5\u001b[0m complete_address \u001b[38;5;241m=\u001b[39m (ip_address,port_no)\n\u001b[1;32m----> 7\u001b[0m \u001b[43ms\u001b[49m\u001b[38;5;241;43m.\u001b[39;49m\u001b[43mbind\u001b[49m\u001b[43m(\u001b[49m\u001b[43mcomplete_address\u001b[49m\u001b[43m)\u001b[49m\n",
      "\u001b[1;31mOSError\u001b[0m: [WinError 10049] The requested address is not valid in its context"
     ]
    }
   ],
   "source": [
    "import socket\n",
    "s = socket.socket(socket.AF_INET,socket.SOCK_DGRAM)\n",
    "ip_address = \"192.168.11.153\"\n",
    "port_no = 3530\n",
    "complete_address = (ip_address,port_no)\n",
    "\n",
    "s.bind(complete_address)"
   ]
  },
  {
   "cell_type": "code",
   "execution_count": 20,
   "metadata": {},
   "outputs": [
    {
     "ename": "OSError",
     "evalue": "[WinError 10049] The requested address is not valid in its context",
     "output_type": "error",
     "traceback": [
      "\u001b[1;31m---------------------------------------------------------------------------\u001b[0m",
      "\u001b[1;31mOSError\u001b[0m                                   Traceback (most recent call last)",
      "Cell \u001b[1;32mIn[20], line 5\u001b[0m\n\u001b[0;32m      2\u001b[0m port_no \u001b[38;5;241m=\u001b[39m \u001b[38;5;241m3530\u001b[39m\n\u001b[0;32m      3\u001b[0m complete_address \u001b[38;5;241m=\u001b[39m (ip_address,port_no)\n\u001b[1;32m----> 5\u001b[0m \u001b[43ms\u001b[49m\u001b[38;5;241;43m.\u001b[39;49m\u001b[43mbind\u001b[49m\u001b[43m(\u001b[49m\u001b[43mcomplete_address\u001b[49m\u001b[43m)\u001b[49m\n",
      "\u001b[1;31mOSError\u001b[0m: [WinError 10049] The requested address is not valid in its context"
     ]
    }
   ],
   "source": [
    "ip_address = \"192.168.11.153\"\n",
    "port_no = 3530\n",
    "complete_address = (ip_address,port_no)\n",
    "\n",
    "s.bind(complete_address)"
   ]
  },
  {
   "cell_type": "code",
   "execution_count": 18,
   "metadata": {},
   "outputs": [
    {
     "name": "stdout",
     "output_type": "stream",
     "text": [
      "Ready to recieve message......\n"
     ]
    },
    {
     "ename": "OSError",
     "evalue": "[WinError 10022] An invalid argument was supplied",
     "output_type": "error",
     "traceback": [
      "\u001b[1;31m---------------------------------------------------------------------------\u001b[0m",
      "\u001b[1;31mOSError\u001b[0m                                   Traceback (most recent call last)",
      "Cell \u001b[1;32mIn[18], line 4\u001b[0m\n\u001b[0;32m      2\u001b[0m condition \u001b[38;5;241m=\u001b[39m \u001b[38;5;28;01mTrue\u001b[39;00m\n\u001b[0;32m      3\u001b[0m \u001b[38;5;28;01mwhile\u001b[39;00m condition:\n\u001b[1;32m----> 4\u001b[0m     message \u001b[38;5;241m=\u001b[39m \u001b[43ms\u001b[49m\u001b[38;5;241;43m.\u001b[39;49m\u001b[43mrecvfrom\u001b[49m\u001b[43m(\u001b[49m\u001b[38;5;241;43m100\u001b[39;49m\u001b[43m)\u001b[49m\n\u001b[0;32m      5\u001b[0m \u001b[38;5;66;03m#    print(message)\u001b[39;00m\n\u001b[0;32m      6\u001b[0m \u001b[38;5;66;03m#    sender_address = message[1][0]\u001b[39;00m\n\u001b[0;32m      7\u001b[0m \u001b[38;5;66;03m#    recieved_message = message[0]\u001b[39;00m\n\u001b[0;32m      8\u001b[0m     decrypted_message \u001b[38;5;241m=\u001b[39m message\u001b[38;5;241m.\u001b[39mdecode(\u001b[38;5;124m'\u001b[39m\u001b[38;5;124mascii\u001b[39m\u001b[38;5;124m'\u001b[39m)\n",
      "\u001b[1;31mOSError\u001b[0m: [WinError 10022] An invalid argument was supplied"
     ]
    }
   ],
   "source": [
    "print(\"Ready to recieve message......\")\n",
    "condition = True\n",
    "while condition:\n",
    "    message = s.recvfrom(100)\n",
    "#    print(message)\n",
    "#    sender_address = message[1][0]\n",
    "#    recieved_message = message[0]\n",
    "    decrypted_message = message.decode('ascii')\n",
    "    print(decrypted_message)"
   ]
  }
 ],
 "metadata": {
  "kernelspec": {
   "display_name": "Python 3",
   "language": "python",
   "name": "python3"
  },
  "language_info": {
   "codemirror_mode": {
    "name": "ipython",
    "version": 3
   },
   "file_extension": ".py",
   "mimetype": "text/x-python",
   "name": "python",
   "nbconvert_exporter": "python",
   "pygments_lexer": "ipython3",
   "version": "3.12.4"
  }
 },
 "nbformat": 4,
 "nbformat_minor": 2
}
